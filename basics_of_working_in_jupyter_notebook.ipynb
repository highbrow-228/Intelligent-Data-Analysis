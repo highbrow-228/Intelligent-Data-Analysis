{
 "cells": [
  {
   "cell_type": "markdown",
   "metadata": {},
   "source": [
    "# <b><span style='color:#0492fd'>|</span>Варіант 12</b>\n"
   ]
  },
  {
   "cell_type": "markdown",
   "metadata": {},
   "source": [
    "## <b><span style='color:#F1C40F'>|</span> Задача 1</b>"
   ]
  },
  {
   "cell_type": "markdown",
   "metadata": {},
   "source": [
    "Створити список N максимальних (Kmax) або мінімальних (Kmin) елементів колекції.\n",
    "\n",
    "    N = [30, -10, 15, -5, 12, 20, 5, -14, 27, -1, 9, -20]\n",
    "    \n",
    "    Kmax = 3\n",
    "    Kmin = 5"
   ]
  },
  {
   "cell_type": "code",
   "execution_count": 1,
   "metadata": {},
   "outputs": [
    {
     "name": "stdout",
     "output_type": "stream",
     "text": [
      "Kmin =  [-20, -14, -10, -5, -1] \n",
      "Kmax =  [30, 27, 20]\n"
     ]
    }
   ],
   "source": [
    "N = [30, -10, 15, -5, 12, 20, 5, -14, 27, -1, 9, -20]\n",
    "\n",
    "Kmax = 3\n",
    "Kmin = 5\n",
    "\n",
    "Kmin_value = sorted(N)[:Kmin]\n",
    "Kmax_value = sorted(N, reverse=True)[:Kmax]\n",
    "print('Kmin = ', Kmin_value,'\\nKmax = ', Kmax_value)"
   ]
  },
  {
   "cell_type": "markdown",
   "metadata": {},
   "source": [
    "## <b><span style='color:#F1C40F'>|</span> Задача 2</b>"
   ]
  },
  {
   "cell_type": "markdown",
   "metadata": {},
   "source": [
    "Об'єднати багато невеликих рядків в довгий рядок.\n",
    "\n",
    "    'Весна', 'приходить', ',', 'птахи', 'повертаються', ',', 'квіти', 'розпускаються', '.'"
   ]
  },
  {
   "cell_type": "code",
   "execution_count": 2,
   "metadata": {},
   "outputs": [
    {
     "name": "stdout",
     "output_type": "stream",
     "text": [
      "Весна приходить , птахи повертаються , квіти розпускаються .\n"
     ]
    }
   ],
   "source": [
    "list_of_words = 'Весна', 'приходить', ',', 'птахи', 'повертаються', ',', 'квіти', 'розпускаються', '.'\n",
    "\n",
    "sentence = ' '.join(list_of_words)\n",
    "print(sentence)"
   ]
  },
  {
   "cell_type": "markdown",
   "metadata": {},
   "source": [
    "## <b><span style='color:#F1C40F'>|</span> Задача 3</b>"
   ]
  },
  {
   "cell_type": "markdown",
   "metadata": {},
   "source": [
    "Операції з матрицями:\n",
    "\n",
    "    M = [[6, -4, 3], [2, 8, -5], [0, -7, 4]] \n",
    "    v = ([[1],[3],[-2]])\n",
    "\n",
    "1. транспортувати M\n",
    "2. M*MT=T\n",
    "3. інфвертувати T\n",
    "4. T*v(вектор)"
   ]
  },
  {
   "cell_type": "code",
   "execution_count": 3,
   "metadata": {},
   "outputs": [
    {
     "name": "stdout",
     "output_type": "stream",
     "text": [
      "[[6, -4, 3], [2, 8, -5], [0, -7, 4]]\n",
      "\n",
      " M^T: \n",
      " [[ 6  2  0]\n",
      " [-4  8 -7]\n",
      " [ 3 -5  4]]\n",
      "\n",
      " Multiple M * M^T: \n",
      " [[ 61 -35  40]\n",
      " [-35  93 -76]\n",
      " [ 40 -76  65]]\n",
      "\n",
      " Inverted_T: \n",
      " [[ 0.34311224 -0.97576531 -1.35204082]\n",
      " [-0.97576531  3.01658163  4.12755102]\n",
      " [-1.35204082  4.12755102  5.67346939]]\n",
      "\n",
      " T_multiply_v: \n",
      " [[ 0.11989796]\n",
      " [-0.18112245]\n",
      " [-0.31632653]]\n"
     ]
    }
   ],
   "source": [
    "import numpy as np\n",
    "\n",
    "M = [[6, -4, 3], [2, 8, -5], [0, -7, 4]] \n",
    "v = ([[1],[3],[-2]])\n",
    "print(M)\n",
    "\n",
    "M_tr = np.transpose(M)\n",
    "print('\\n', 'M^T:', '\\n', M_tr)\n",
    "\n",
    "T = np.dot(M, M_tr)\n",
    "print('\\n', 'Multiple M * M^T:', '\\n', T)\n",
    "\n",
    "Inverted_T = np.linalg.inv(T)\n",
    "print('\\n', 'Inverted_T:', '\\n', Inverted_T)\n",
    "\n",
    "T_multiply_v = np.dot(Inverted_T, v)\n",
    "print('\\n', 'T_multiply_v:', '\\n', T_multiply_v)"
   ]
  },
  {
   "cell_type": "markdown",
   "metadata": {},
   "source": [
    "## <b><span style='color:#F1C40F'>|</span> Задача 4</b>"
   ]
  },
  {
   "cell_type": "markdown",
   "metadata": {},
   "source": [
    "До дати (data) додайте d днів та виведіть\n",
    "\n",
    "    data = 7/08/2021\n",
    "    d = 300"
   ]
  },
  {
   "cell_type": "code",
   "execution_count": 4,
   "metadata": {},
   "outputs": [
    {
     "name": "stdout",
     "output_type": "stream",
     "text": [
      "start date: 2021-08-07 00:00:00 + 300 d =  2022-06-03 00:00:00\n"
     ]
    }
   ],
   "source": [
    "from datetime import datetime\n",
    "from datetime import timedelta\n",
    "\n",
    "data = datetime(2021, 8, 7)  # рік, місяць, день\n",
    "d = 300\n",
    "\n",
    "result_data = data + timedelta(d)\n",
    "print('start date:', data, '+', d, \"d = \", result_data )"
   ]
  },
  {
   "cell_type": "markdown",
   "metadata": {},
   "source": [
    "## <b><span style='color:#F1C40F'>|</span> Задача 5</b>"
   ]
  },
  {
   "cell_type": "markdown",
   "metadata": {},
   "source": [
    "Провести парсинг RSS-канала\n",
    "\n",
    "    https://www.economist.com/latest/rss.xml"
   ]
  },
  {
   "cell_type": "code",
   "execution_count": 1,
   "metadata": {},
   "outputs": [
    {
     "name": "stdout",
     "output_type": "stream",
     "text": [
      "title: Latest Updates\n",
      "link: https://www.economist.com/latest/\n",
      "description: The most recent blogs and online articles from The Economist\n",
      "\n",
      "\n",
      "\n",
      "Items: \n",
      "\n",
      "Item title: Madridland\n",
      "Item link: https://www.economist.com/podcasts/2024/09/21/madridland\n",
      "Item description: How can Spain avoid the tourist trap?\n",
      "Published date: Sat, 21 Sep 2024 09:00:00 +0000\n",
      "\n",
      "\n",
      "Item title: Friedrich Merz, Germany’s chancellor-in-waiting?\n",
      "Item link: https://www.economist.com/europe/2024/09/20/friedrich-merz-germanys-chancellor-in-waiting\n",
      "Item description: He has strong odds of thrashing Olaf Scholz next year\n",
      "Published date: Fri, 20 Sep 2024 20:04:11 +0000\n",
      "\n",
      "\n",
      "Item title: What “supertall” skyscrapers reveal about countries that build them\n",
      "Item link: https://www.economist.com/interactive/culture/2024/09/20/what-supertall-skyscrapers-reveal-about-countries-that-build-them\n",
      "Item description: They are miracles of engineering and “boasts in glass and steel”\n",
      "Published date: Fri, 20 Sep 2024 16:38:21 +0000\n",
      "\n",
      "\n",
      "Item title: What happens if the US election is contested?\n",
      "Item link: https://www.economist.com/podcasts/2024/09/20/what-happens-if-the-us-election-is-contested\n",
      "Item description: Our weekly podcast on democracy in America. This week, we ask how ugly the aftermath of the election could get\n",
      "Published date: Fri, 20 Sep 2024 15:50:39 +0000\n",
      "\n",
      "\n",
      "Item title: Can Donald Trump use songs against a musician’s will?\n",
      "Item link: https://www.economist.com/the-economist-explains/2024/09/20/can-donald-trump-use-songs-against-a-musicians-will\n",
      "Item description: Many stars have complained, and some have filed lawsuits\n",
      "Published date: Fri, 20 Sep 2024 15:48:00 +0000\n",
      "\n",
      "\n"
     ]
    }
   ],
   "source": [
    "import feedparser\n",
    "channel = feedparser.parse('https://www.economist.com/latest/rss.xml')\n",
    "\n",
    "title = channel.feed.title\n",
    "link = channel.feed.link\n",
    "description = channel.feed.description\n",
    "\n",
    "result = 'title: ' + title + '\\n' + 'link: ' + link + '\\n' + 'description: ' + description + '\\n\\n'\n",
    "print(result)\n",
    "\n",
    "print(\"\\nItems: \\n\")\n",
    "for item in channel.entries[:5]:\n",
    "    string = \"Item title: \" + item.title + \"\\nItem link: \" + item.link + \"\\nItem description: \" + item.description + \"\\nPublished date: \" + item.published + \"\\n\\n\"\n",
    "    print(string)"
   ]
  },
  {
   "cell_type": "code",
   "execution_count": null,
   "metadata": {},
   "outputs": [],
   "source": []
  }
 ],
 "metadata": {
  "kernelspec": {
   "display_name": "Python 3",
   "language": "python",
   "name": "python3"
  },
  "language_info": {
   "codemirror_mode": {
    "name": "ipython",
    "version": 3
   },
   "file_extension": ".py",
   "mimetype": "text/x-python",
   "name": "python",
   "nbconvert_exporter": "python",
   "pygments_lexer": "ipython3",
   "version": "3.11.0"
  }
 },
 "nbformat": 4,
 "nbformat_minor": 2
}
